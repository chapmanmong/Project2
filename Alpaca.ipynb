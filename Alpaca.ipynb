{
 "cells": [
  {
   "cell_type": "code",
   "execution_count": 38,
   "id": "2662c767-8fc5-4f45-ac7e-240b3ef07b78",
   "metadata": {},
   "outputs": [],
   "source": [
    "# Initial imports\n",
    "import os\n",
    "import requests\n",
    "import pandas as pd\n",
    "import alpaca_trade_api as tradeapi\n",
    "from dotenv import load_dotenv\n",
    "load_dotenv()\n",
    "from pathlib import Path"
   ]
  },
  {
   "cell_type": "code",
   "execution_count": 14,
   "id": "5b4e05a4-6e0e-4c83-aead-4f19ab010623",
   "metadata": {},
   "outputs": [],
   "source": [
    "# Set Alpaca API key and secret\n",
    "alpaca_api_key = os.getenv(\"ALPACA_API_KEY\")\n",
    "alpaca_secret_key = os.getenv(\"ALPACA_SECRET_KEY\")\n",
    "\n",
    "# Create the Alpaca API object\n",
    "api = tradeapi.REST(\n",
    "    alpaca_api_key,\n",
    "    alpaca_secret_key,\n",
    "    api_version = \"v2\"\n",
    ")"
   ]
  },
  {
   "cell_type": "code",
   "execution_count": 48,
   "id": "f027f45f-6f16-4c72-a346-ba157bf68e87",
   "metadata": {},
   "outputs": [
    {
     "data": {
      "text/html": [
       "<div>\n",
       "<style scoped>\n",
       "    .dataframe tbody tr th:only-of-type {\n",
       "        vertical-align: middle;\n",
       "    }\n",
       "\n",
       "    .dataframe tbody tr th {\n",
       "        vertical-align: top;\n",
       "    }\n",
       "\n",
       "    .dataframe thead th {\n",
       "        text-align: right;\n",
       "    }\n",
       "</style>\n",
       "<table border=\"1\" class=\"dataframe\">\n",
       "  <thead>\n",
       "    <tr style=\"text-align: right;\">\n",
       "      <th></th>\n",
       "      <th>TSLA</th>\n",
       "      <th>KO</th>\n",
       "    </tr>\n",
       "    <tr>\n",
       "      <th>time</th>\n",
       "      <th></th>\n",
       "      <th></th>\n",
       "    </tr>\n",
       "  </thead>\n",
       "  <tbody>\n",
       "    <tr>\n",
       "      <th>2021-11-18 00:00:00-05:00</th>\n",
       "      <td>1096.37</td>\n",
       "      <td>55.41</td>\n",
       "    </tr>\n",
       "    <tr>\n",
       "      <th>2021-11-19 00:00:00-05:00</th>\n",
       "      <td>1137.12</td>\n",
       "      <td>55.13</td>\n",
       "    </tr>\n",
       "    <tr>\n",
       "      <th>2021-11-22 00:00:00-05:00</th>\n",
       "      <td>1156.05</td>\n",
       "      <td>55.46</td>\n",
       "    </tr>\n",
       "    <tr>\n",
       "      <th>2021-11-23 00:00:00-05:00</th>\n",
       "      <td>1108.81</td>\n",
       "      <td>55.88</td>\n",
       "    </tr>\n",
       "    <tr>\n",
       "      <th>2021-11-24 00:00:00-05:00</th>\n",
       "      <td>1115.85</td>\n",
       "      <td>55.43</td>\n",
       "    </tr>\n",
       "  </tbody>\n",
       "</table>\n",
       "</div>"
      ],
      "text/plain": [
       "                              TSLA     KO\n",
       "time                                     \n",
       "2021-11-18 00:00:00-05:00  1096.37  55.41\n",
       "2021-11-19 00:00:00-05:00  1137.12  55.13\n",
       "2021-11-22 00:00:00-05:00  1156.05  55.46\n",
       "2021-11-23 00:00:00-05:00  1108.81  55.88\n",
       "2021-11-24 00:00:00-05:00  1115.85  55.43"
      ]
     },
     "execution_count": 48,
     "metadata": {},
     "output_type": "execute_result"
    }
   ],
   "source": [
    "# Set start and end datetimes of 7 days back from from Today\n",
    "start_date = pd.Timestamp(\"2021-11-18\", tz=\"America/New_York\").isoformat()\n",
    "end_date = pd.Timestamp(\"2021-11-25\", tz=\"America/New_York\").isoformat()\n",
    "\n",
    "# Set the Tesla and Coca-Cola tickers\n",
    "tickers = [\"TSLA\", \"KO\"]\n",
    "\n",
    "# Set timeframe to '1D' for Alpaca API\n",
    "timeframe = \"1D\"\n",
    "\n",
    "# Get current closing prices for TSLA and KO\n",
    "alpaca_ticker = api.get_barset(tickers, timeframe,start = start_date, end = end_date, limit = 1000).df\n",
    "alpaca_closing_prices = pd.DataFrame()\n",
    "for ticker in tickers:\n",
    "    alpaca_closing_prices[ticker]= alpaca_ticker[ticker]['close']\n",
    "\n",
    "# Preview DataFrame\n",
    "alpaca_closing_prices.head()"
   ]
  },
  {
   "cell_type": "code",
   "execution_count": 47,
   "id": "49701527-315c-4c4a-8e81-17683f10fe41",
   "metadata": {},
   "outputs": [],
   "source": [
    "# Save pre-processed Closing Prices from Alpaca\n",
    "alpaca_closing_prices.to_csv(Path('/Data/alpaca_closing_prices.csv'))\n"
   ]
  }
 ],
 "metadata": {
  "kernelspec": {
   "display_name": "Python 3 (ipykernel)",
   "language": "python",
   "name": "python3"
  },
  "language_info": {
   "codemirror_mode": {
    "name": "ipython",
    "version": 3
   },
   "file_extension": ".py",
   "mimetype": "text/x-python",
   "name": "python",
   "nbconvert_exporter": "python",
   "pygments_lexer": "ipython3",
   "version": "3.8.8"
  }
 },
 "nbformat": 4,
 "nbformat_minor": 5
}
