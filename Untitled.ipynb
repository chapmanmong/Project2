{
 "cells": [
  {
   "cell_type": "code",
   "execution_count": 16,
   "id": "92e1caf7-ed9d-42a0-8edf-d23105880c7d",
   "metadata": {},
   "outputs": [],
   "source": [
    "#import files and give access to tokens and keys\n",
    "import pandas as pd\n",
    "import tweepy\n",
    "access_token=\"4105919194-jkclmytXNfST2wc6jg2gor0FMa6tsz4DPr9pcC6\"\n",
    "access_token_secret=\"BaIHl8pzEADtWLnZmm9GyV2IUua95aTcN7JR9WWwRChPT\"\n",
    "consumer_key=\"Ammfl6GnQm1AD1hKvzwargYon\"\n",
    "consumer_secret=\"ouKuXRQxxGnV7e44yshmToc0epCD84l2ITeZ7DMdF2feFEqwwA\"\n",
    "auth= tweepy.OAuthHandler(consumer_key,consumer_secret)\n",
    "auth.set_access_token(access_token,access_token_secret)"
   ]
  },
  {
   "cell_type": "code",
   "execution_count": 17,
   "id": "41ae71ba-7e47-4e61-80e2-55c003ce6dfe",
   "metadata": {},
   "outputs": [],
   "source": [
    "tweet_list=[]\n",
    "class MyStreamListener(tweepy.Stream):\n",
    "    def __init__(self,api=None):\n",
    "        super(MyStreamListener,self).__init__()\n",
    "        self.num_tweets=0\n",
    "        self.file=open(\"tweet.txt\",\"w\")\n",
    "    def on_status(self,status):\n",
    "        tweet=status._json\n",
    "        self.file.write(json.dumps(tweet)+ '\\n')\n",
    "        tweet_list.append(status)\n",
    "        self.num_tweets+=1\n",
    "        if self.num_tweets<1000:\n",
    "            return True\n",
    "        else:\n",
    "            return False\n",
    "        self.file.close()"
   ]
  },
  {
   "cell_type": "code",
   "execution_count": 18,
   "id": "25fa467f-f46f-4ec2-b655-889410a1ccbb",
   "metadata": {},
   "outputs": [
    {
     "ename": "TypeError",
     "evalue": "__init__() missing 4 required positional arguments: 'consumer_key', 'consumer_secret', 'access_token', and 'access_token_secret'",
     "output_type": "error",
     "traceback": [
      "\u001b[1;31m---------------------------------------------------------------------------\u001b[0m",
      "\u001b[1;31mTypeError\u001b[0m                                 Traceback (most recent call last)",
      "\u001b[1;32m~\\AppData\\Local\\Temp/ipykernel_292/2529387804.py\u001b[0m in \u001b[0;36m<module>\u001b[1;34m\u001b[0m\n\u001b[0;32m      1\u001b[0m \u001b[1;31m#create streaming object and authenticate\u001b[0m\u001b[1;33m\u001b[0m\u001b[1;33m\u001b[0m\u001b[1;33m\u001b[0m\u001b[0m\n\u001b[1;32m----> 2\u001b[1;33m \u001b[0ml\u001b[0m \u001b[1;33m=\u001b[0m \u001b[0mMyStreamListener\u001b[0m\u001b[1;33m(\u001b[0m\u001b[1;33m)\u001b[0m\u001b[1;33m\u001b[0m\u001b[1;33m\u001b[0m\u001b[0m\n\u001b[0m\u001b[0;32m      3\u001b[0m \u001b[0mstream\u001b[0m \u001b[1;33m=\u001b[0m \u001b[0mtweepy\u001b[0m\u001b[1;33m.\u001b[0m\u001b[0mStream\u001b[0m\u001b[1;33m(\u001b[0m\u001b[0mauth\u001b[0m\u001b[1;33m,\u001b[0m\u001b[0ml\u001b[0m\u001b[1;33m)\u001b[0m\u001b[1;33m\u001b[0m\u001b[1;33m\u001b[0m\u001b[0m\n\u001b[0;32m      4\u001b[0m \u001b[1;31m#this line filters twiiter streams to capture data by keywords\u001b[0m\u001b[1;33m\u001b[0m\u001b[1;33m\u001b[0m\u001b[1;33m\u001b[0m\u001b[0m\n\u001b[0;32m      5\u001b[0m stream.filter(track=['covid','corona','covid19','coronavirus',\n",
      "\u001b[1;32m~\\AppData\\Local\\Temp/ipykernel_292/460214027.py\u001b[0m in \u001b[0;36m__init__\u001b[1;34m(self, api)\u001b[0m\n\u001b[0;32m      2\u001b[0m \u001b[1;32mclass\u001b[0m \u001b[0mMyStreamListener\u001b[0m\u001b[1;33m(\u001b[0m\u001b[0mtweepy\u001b[0m\u001b[1;33m.\u001b[0m\u001b[0mStream\u001b[0m\u001b[1;33m)\u001b[0m\u001b[1;33m:\u001b[0m\u001b[1;33m\u001b[0m\u001b[1;33m\u001b[0m\u001b[0m\n\u001b[0;32m      3\u001b[0m     \u001b[1;32mdef\u001b[0m \u001b[0m__init__\u001b[0m\u001b[1;33m(\u001b[0m\u001b[0mself\u001b[0m\u001b[1;33m,\u001b[0m\u001b[0mapi\u001b[0m\u001b[1;33m=\u001b[0m\u001b[1;32mNone\u001b[0m\u001b[1;33m)\u001b[0m\u001b[1;33m:\u001b[0m\u001b[1;33m\u001b[0m\u001b[1;33m\u001b[0m\u001b[0m\n\u001b[1;32m----> 4\u001b[1;33m         \u001b[0msuper\u001b[0m\u001b[1;33m(\u001b[0m\u001b[0mMyStreamListener\u001b[0m\u001b[1;33m,\u001b[0m\u001b[0mself\u001b[0m\u001b[1;33m)\u001b[0m\u001b[1;33m.\u001b[0m\u001b[0m__init__\u001b[0m\u001b[1;33m(\u001b[0m\u001b[1;33m)\u001b[0m\u001b[1;33m\u001b[0m\u001b[1;33m\u001b[0m\u001b[0m\n\u001b[0m\u001b[0;32m      5\u001b[0m         \u001b[0mself\u001b[0m\u001b[1;33m.\u001b[0m\u001b[0mnum_tweets\u001b[0m\u001b[1;33m=\u001b[0m\u001b[1;36m0\u001b[0m\u001b[1;33m\u001b[0m\u001b[1;33m\u001b[0m\u001b[0m\n\u001b[0;32m      6\u001b[0m         \u001b[0mself\u001b[0m\u001b[1;33m.\u001b[0m\u001b[0mfile\u001b[0m\u001b[1;33m=\u001b[0m\u001b[0mopen\u001b[0m\u001b[1;33m(\u001b[0m\u001b[1;34m\"tweet.txt\"\u001b[0m\u001b[1;33m,\u001b[0m\u001b[1;34m\"w\"\u001b[0m\u001b[1;33m)\u001b[0m\u001b[1;33m\u001b[0m\u001b[1;33m\u001b[0m\u001b[0m\n",
      "\u001b[1;31mTypeError\u001b[0m: __init__() missing 4 required positional arguments: 'consumer_key', 'consumer_secret', 'access_token', and 'access_token_secret'"
     ]
    }
   ],
   "source": [
    "#create streaming object and authenticate\n",
    "l = MyStreamListener()\n",
    "stream = tweepy.Stream(auth,l)\n",
    "#this line filters twiiter streams to capture data by keywords\n",
    "stream.filter(track=['covid','corona','covid19','coronavirus',\n",
    "'facemask','sanitizer','social-distancing'])"
   ]
  },
  {
   "cell_type": "code",
   "execution_count": 19,
   "id": "58300f4a-b3e5-4743-84de-044523e207d9",
   "metadata": {},
   "outputs": [
    {
     "ename": "FileNotFoundError",
     "evalue": "[Errno 2] No such file or directory: 'copp.txt'",
     "output_type": "error",
     "traceback": [
      "\u001b[1;31m---------------------------------------------------------------------------\u001b[0m",
      "\u001b[1;31mFileNotFoundError\u001b[0m                         Traceback (most recent call last)",
      "\u001b[1;32m~\\AppData\\Local\\Temp/ipykernel_292/2251320282.py\u001b[0m in \u001b[0;36m<module>\u001b[1;34m\u001b[0m\n\u001b[0;32m      1\u001b[0m \u001b[0mtweets_data_path\u001b[0m\u001b[1;33m=\u001b[0m\u001b[1;34m'copp.txt'\u001b[0m\u001b[1;33m\u001b[0m\u001b[1;33m\u001b[0m\u001b[0m\n\u001b[0;32m      2\u001b[0m \u001b[0mtweets_data\u001b[0m\u001b[1;33m=\u001b[0m\u001b[1;33m[\u001b[0m\u001b[1;33m]\u001b[0m\u001b[1;33m\u001b[0m\u001b[1;33m\u001b[0m\u001b[0m\n\u001b[1;32m----> 3\u001b[1;33m \u001b[0mtweets_file\u001b[0m\u001b[1;33m=\u001b[0m\u001b[0mopen\u001b[0m\u001b[1;33m(\u001b[0m\u001b[0mtweets_data_path\u001b[0m\u001b[1;33m,\u001b[0m\u001b[1;34m\"r\"\u001b[0m\u001b[1;33m)\u001b[0m\u001b[1;33m\u001b[0m\u001b[1;33m\u001b[0m\u001b[0m\n\u001b[0m\u001b[0;32m      4\u001b[0m \u001b[1;31m#read in tweets and store on list\u001b[0m\u001b[1;33m\u001b[0m\u001b[1;33m\u001b[0m\u001b[1;33m\u001b[0m\u001b[0m\n\u001b[0;32m      5\u001b[0m \u001b[1;32mfor\u001b[0m \u001b[0mline\u001b[0m \u001b[1;32min\u001b[0m \u001b[0mtweets_file\u001b[0m\u001b[1;33m:\u001b[0m\u001b[1;33m\u001b[0m\u001b[1;33m\u001b[0m\u001b[0m\n",
      "\u001b[1;31mFileNotFoundError\u001b[0m: [Errno 2] No such file or directory: 'copp.txt'"
     ]
    }
   ],
   "source": [
    "tweets_data_path='copp.txt'\n",
    "tweets_data=[]\n",
    "tweets_file=open(tweets_data_path,\"r\")\n",
    "#read in tweets and store on list\n",
    "for line in tweets_file:\n",
    "    tweet=json.loads(line)\n",
    "    tweets_data.append(tweet)\n",
    "tweets_file.close()\n",
    "print(tweets_data[0])"
   ]
  },
  {
   "cell_type": "code",
   "execution_count": 31,
   "id": "9de62ba8-c608-4a73-aa36-3d344bf07180",
   "metadata": {},
   "outputs": [],
   "source": [
    "api = tweepy.API(auth)\n",
    "results = api.search_tweets(q=\"TSLA\", lang=\"en\", result_type=\"popular\")"
   ]
  },
  {
   "cell_type": "code",
   "execution_count": 33,
   "id": "e9b67f1f-90a4-430a-8ce5-5eae73842803",
   "metadata": {},
   "outputs": [
    {
     "data": {
      "text/plain": [
       "Status(_api=<tweepy.api.API object at 0x000001F59F8374F0>, _json={'created_at': 'Tue Nov 23 12:24:46 +0000 2021', 'id': 1463121343587786754, 'id_str': '1463121343587786754', 'text': '$TSLA is leaving the competition in the dust when it comes to sales in California, reporting 64% year-to-date. The… https://t.co/C6u2ClDaOC', 'truncated': True, 'entities': {'hashtags': [], 'symbols': [{'text': 'TSLA', 'indices': [0, 5]}], 'user_mentions': [], 'urls': [{'url': 'https://t.co/C6u2ClDaOC', 'expanded_url': 'https://twitter.com/i/web/status/1463121343587786754', 'display_url': 'twitter.com/i/web/status/1…', 'indices': [116, 139]}]}, 'metadata': {'result_type': 'popular', 'iso_language_code': 'en'}, 'source': '<a href=\"http://wildmoka.com\" rel=\"nofollow\">Wildmoka</a>', 'in_reply_to_status_id': None, 'in_reply_to_status_id_str': None, 'in_reply_to_user_id': None, 'in_reply_to_user_id_str': None, 'in_reply_to_screen_name': None, 'user': {'id': 404422077, 'id_str': '404422077', 'name': 'Squawk Box', 'screen_name': 'SquawkCNBC', 'location': 'New York, NY', 'description': 'Start your morning with Joe Kernen, Becky Quick, and Andrew Ross Sorkin - Monday through Friday from 6-9a ET.', 'url': 'http://t.co/AMPUczhT7a', 'entities': {'url': {'urls': [{'url': 'http://t.co/AMPUczhT7a', 'expanded_url': 'http://squawkbox.cnbc.com', 'display_url': 'squawkbox.cnbc.com', 'indices': [0, 22]}]}, 'description': {'urls': []}}, 'protected': False, 'followers_count': 339433, 'friends_count': 1003, 'listed_count': 4106, 'created_at': 'Thu Nov 03 22:17:10 +0000 2011', 'favourites_count': 1889, 'utc_offset': None, 'time_zone': None, 'geo_enabled': True, 'verified': True, 'statuses_count': 32018, 'lang': None, 'contributors_enabled': False, 'is_translator': False, 'is_translation_enabled': False, 'profile_background_color': '000000', 'profile_background_image_url': 'http://abs.twimg.com/images/themes/theme1/bg.png', 'profile_background_image_url_https': 'https://abs.twimg.com/images/themes/theme1/bg.png', 'profile_background_tile': False, 'profile_image_url': 'http://pbs.twimg.com/profile_images/1197996990644310018/jBN0g0AI_normal.png', 'profile_image_url_https': 'https://pbs.twimg.com/profile_images/1197996990644310018/jBN0g0AI_normal.png', 'profile_banner_url': 'https://pbs.twimg.com/profile_banners/404422077/1574459715', 'profile_link_color': '3473A3', 'profile_sidebar_border_color': 'FFFFFF', 'profile_sidebar_fill_color': 'E3E3E3', 'profile_text_color': '5E5E5E', 'profile_use_background_image': True, 'has_extended_profile': False, 'default_profile': False, 'default_profile_image': False, 'following': False, 'follow_request_sent': False, 'notifications': False, 'translator_type': 'none', 'withheld_in_countries': []}, 'geo': None, 'coordinates': None, 'place': None, 'contributors': None, 'is_quote_status': False, 'retweet_count': 196, 'favorite_count': 881, 'favorited': False, 'retweeted': False, 'possibly_sensitive': False, 'lang': 'en'}, created_at=datetime.datetime(2021, 11, 23, 12, 24, 46, tzinfo=datetime.timezone.utc), id=1463121343587786754, id_str='1463121343587786754', text='$TSLA is leaving the competition in the dust when it comes to sales in California, reporting 64% year-to-date. The… https://t.co/C6u2ClDaOC', truncated=True, entities={'hashtags': [], 'symbols': [{'text': 'TSLA', 'indices': [0, 5]}], 'user_mentions': [], 'urls': [{'url': 'https://t.co/C6u2ClDaOC', 'expanded_url': 'https://twitter.com/i/web/status/1463121343587786754', 'display_url': 'twitter.com/i/web/status/1…', 'indices': [116, 139]}]}, metadata={'result_type': 'popular', 'iso_language_code': 'en'}, source='Wildmoka', source_url='http://wildmoka.com', in_reply_to_status_id=None, in_reply_to_status_id_str=None, in_reply_to_user_id=None, in_reply_to_user_id_str=None, in_reply_to_screen_name=None, author=User(_api=<tweepy.api.API object at 0x000001F59F8374F0>, _json={'id': 404422077, 'id_str': '404422077', 'name': 'Squawk Box', 'screen_name': 'SquawkCNBC', 'location': 'New York, NY', 'description': 'Start your morning with Joe Kernen, Becky Quick, and Andrew Ross Sorkin - Monday through Friday from 6-9a ET.', 'url': 'http://t.co/AMPUczhT7a', 'entities': {'url': {'urls': [{'url': 'http://t.co/AMPUczhT7a', 'expanded_url': 'http://squawkbox.cnbc.com', 'display_url': 'squawkbox.cnbc.com', 'indices': [0, 22]}]}, 'description': {'urls': []}}, 'protected': False, 'followers_count': 339433, 'friends_count': 1003, 'listed_count': 4106, 'created_at': 'Thu Nov 03 22:17:10 +0000 2011', 'favourites_count': 1889, 'utc_offset': None, 'time_zone': None, 'geo_enabled': True, 'verified': True, 'statuses_count': 32018, 'lang': None, 'contributors_enabled': False, 'is_translator': False, 'is_translation_enabled': False, 'profile_background_color': '000000', 'profile_background_image_url': 'http://abs.twimg.com/images/themes/theme1/bg.png', 'profile_background_image_url_https': 'https://abs.twimg.com/images/themes/theme1/bg.png', 'profile_background_tile': False, 'profile_image_url': 'http://pbs.twimg.com/profile_images/1197996990644310018/jBN0g0AI_normal.png', 'profile_image_url_https': 'https://pbs.twimg.com/profile_images/1197996990644310018/jBN0g0AI_normal.png', 'profile_banner_url': 'https://pbs.twimg.com/profile_banners/404422077/1574459715', 'profile_link_color': '3473A3', 'profile_sidebar_border_color': 'FFFFFF', 'profile_sidebar_fill_color': 'E3E3E3', 'profile_text_color': '5E5E5E', 'profile_use_background_image': True, 'has_extended_profile': False, 'default_profile': False, 'default_profile_image': False, 'following': False, 'follow_request_sent': False, 'notifications': False, 'translator_type': 'none', 'withheld_in_countries': []}, id=404422077, id_str='404422077', name='Squawk Box', screen_name='SquawkCNBC', location='New York, NY', description='Start your morning with Joe Kernen, Becky Quick, and Andrew Ross Sorkin - Monday through Friday from 6-9a ET.', url='http://t.co/AMPUczhT7a', entities={'url': {'urls': [{'url': 'http://t.co/AMPUczhT7a', 'expanded_url': 'http://squawkbox.cnbc.com', 'display_url': 'squawkbox.cnbc.com', 'indices': [0, 22]}]}, 'description': {'urls': []}}, protected=False, followers_count=339433, friends_count=1003, listed_count=4106, created_at=datetime.datetime(2011, 11, 3, 22, 17, 10, tzinfo=datetime.timezone.utc), favourites_count=1889, utc_offset=None, time_zone=None, geo_enabled=True, verified=True, statuses_count=32018, lang=None, contributors_enabled=False, is_translator=False, is_translation_enabled=False, profile_background_color='000000', profile_background_image_url='http://abs.twimg.com/images/themes/theme1/bg.png', profile_background_image_url_https='https://abs.twimg.com/images/themes/theme1/bg.png', profile_background_tile=False, profile_image_url='http://pbs.twimg.com/profile_images/1197996990644310018/jBN0g0AI_normal.png', profile_image_url_https='https://pbs.twimg.com/profile_images/1197996990644310018/jBN0g0AI_normal.png', profile_banner_url='https://pbs.twimg.com/profile_banners/404422077/1574459715', profile_link_color='3473A3', profile_sidebar_border_color='FFFFFF', profile_sidebar_fill_color='E3E3E3', profile_text_color='5E5E5E', profile_use_background_image=True, has_extended_profile=False, default_profile=False, default_profile_image=False, following=False, follow_request_sent=False, notifications=False, translator_type='none', withheld_in_countries=[]), user=User(_api=<tweepy.api.API object at 0x000001F59F8374F0>, _json={'id': 404422077, 'id_str': '404422077', 'name': 'Squawk Box', 'screen_name': 'SquawkCNBC', 'location': 'New York, NY', 'description': 'Start your morning with Joe Kernen, Becky Quick, and Andrew Ross Sorkin - Monday through Friday from 6-9a ET.', 'url': 'http://t.co/AMPUczhT7a', 'entities': {'url': {'urls': [{'url': 'http://t.co/AMPUczhT7a', 'expanded_url': 'http://squawkbox.cnbc.com', 'display_url': 'squawkbox.cnbc.com', 'indices': [0, 22]}]}, 'description': {'urls': []}}, 'protected': False, 'followers_count': 339433, 'friends_count': 1003, 'listed_count': 4106, 'created_at': 'Thu Nov 03 22:17:10 +0000 2011', 'favourites_count': 1889, 'utc_offset': None, 'time_zone': None, 'geo_enabled': True, 'verified': True, 'statuses_count': 32018, 'lang': None, 'contributors_enabled': False, 'is_translator': False, 'is_translation_enabled': False, 'profile_background_color': '000000', 'profile_background_image_url': 'http://abs.twimg.com/images/themes/theme1/bg.png', 'profile_background_image_url_https': 'https://abs.twimg.com/images/themes/theme1/bg.png', 'profile_background_tile': False, 'profile_image_url': 'http://pbs.twimg.com/profile_images/1197996990644310018/jBN0g0AI_normal.png', 'profile_image_url_https': 'https://pbs.twimg.com/profile_images/1197996990644310018/jBN0g0AI_normal.png', 'profile_banner_url': 'https://pbs.twimg.com/profile_banners/404422077/1574459715', 'profile_link_color': '3473A3', 'profile_sidebar_border_color': 'FFFFFF', 'profile_sidebar_fill_color': 'E3E3E3', 'profile_text_color': '5E5E5E', 'profile_use_background_image': True, 'has_extended_profile': False, 'default_profile': False, 'default_profile_image': False, 'following': False, 'follow_request_sent': False, 'notifications': False, 'translator_type': 'none', 'withheld_in_countries': []}, id=404422077, id_str='404422077', name='Squawk Box', screen_name='SquawkCNBC', location='New York, NY', description='Start your morning with Joe Kernen, Becky Quick, and Andrew Ross Sorkin - Monday through Friday from 6-9a ET.', url='http://t.co/AMPUczhT7a', entities={'url': {'urls': [{'url': 'http://t.co/AMPUczhT7a', 'expanded_url': 'http://squawkbox.cnbc.com', 'display_url': 'squawkbox.cnbc.com', 'indices': [0, 22]}]}, 'description': {'urls': []}}, protected=False, followers_count=339433, friends_count=1003, listed_count=4106, created_at=datetime.datetime(2011, 11, 3, 22, 17, 10, tzinfo=datetime.timezone.utc), favourites_count=1889, utc_offset=None, time_zone=None, geo_enabled=True, verified=True, statuses_count=32018, lang=None, contributors_enabled=False, is_translator=False, is_translation_enabled=False, profile_background_color='000000', profile_background_image_url='http://abs.twimg.com/images/themes/theme1/bg.png', profile_background_image_url_https='https://abs.twimg.com/images/themes/theme1/bg.png', profile_background_tile=False, profile_image_url='http://pbs.twimg.com/profile_images/1197996990644310018/jBN0g0AI_normal.png', profile_image_url_https='https://pbs.twimg.com/profile_images/1197996990644310018/jBN0g0AI_normal.png', profile_banner_url='https://pbs.twimg.com/profile_banners/404422077/1574459715', profile_link_color='3473A3', profile_sidebar_border_color='FFFFFF', profile_sidebar_fill_color='E3E3E3', profile_text_color='5E5E5E', profile_use_background_image=True, has_extended_profile=False, default_profile=False, default_profile_image=False, following=False, follow_request_sent=False, notifications=False, translator_type='none', withheld_in_countries=[]), geo=None, coordinates=None, place=None, contributors=None, is_quote_status=False, retweet_count=196, favorite_count=881, favorited=False, retweeted=False, possibly_sensitive=False, lang='en')"
      ]
     },
     "execution_count": 33,
     "metadata": {},
     "output_type": "execute_result"
    }
   ],
   "source": [
    "results[0]"
   ]
  }
 ],
 "metadata": {
  "kernelspec": {
   "display_name": "Python 3 (ipykernel)",
   "language": "python",
   "name": "python3"
  },
  "language_info": {
   "codemirror_mode": {
    "name": "ipython",
    "version": 3
   },
   "file_extension": ".py",
   "mimetype": "text/x-python",
   "name": "python",
   "nbconvert_exporter": "python",
   "pygments_lexer": "ipython3",
   "version": "3.8.8"
  }
 },
 "nbformat": 4,
 "nbformat_minor": 5
}
